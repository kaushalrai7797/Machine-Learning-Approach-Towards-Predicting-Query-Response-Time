{
 "cells": [
  {
   "cell_type": "code",
   "execution_count": null,
   "metadata": {},
   "outputs": [],
   "source": [
    "# Refer to the file readme.txt for isntructions to run this file. Only the block below is to be changed."
   ]
  },
  {
   "cell_type": "code",
   "execution_count": null,
   "metadata": {},
   "outputs": [],
   "source": [
    "# enter the training file name.\n",
    "file = ''\n",
    "# enter the number of features.\n",
    "numfeatures = \n",
    "# enter the test set size.\n",
    "test_set = "
   ]
  },
  {
   "cell_type": "code",
   "execution_count": null,
   "metadata": {},
   "outputs": [],
   "source": [
    "# form the dataset by getting corresponding features and execution time.\n",
    "dataset = []\n",
    "import numpy as np\n",
    "with open(file) as f:\n",
    "    lines = f.readlines()\n",
    "    for l in lines:\n",
    "        l = l[:-1]\n",
    "        l = l.split(' ')\n",
    "        dataset.append([float(numeric_string) for numeric_string in l])\n",
    "dataset = np.asarray(dataset)\n",
    "print(len(dataset))"
   ]
  },
  {
   "cell_type": "code",
   "execution_count": null,
   "metadata": {},
   "outputs": [],
   "source": [
    "# function to normalize the data\n",
    "def normalize(train):\n",
    "    train_norm = np.asarray([[0.0]*len(train[0])]*len(train))\n",
    "    minTrain = train.min(axis = 0)\n",
    "    maxTrain = train.max(axis = 0)\n",
    "    ranges = maxTrain - minTrain\n",
    "    for i in range(len(train[0])):\n",
    "        for j in range(len(train)):\n",
    "            if(ranges[i] == 0):\n",
    "                train_norm[j][i] = 0.0\n",
    "            else:\n",
    "                train_norm[j][i] = (train[j][i] - minTrain[i])/ranges[i]\n",
    "    return train_norm\n",
    "temp = normalize(np.asarray(dataset[:, :-1])) \n",
    "dataset = np.concatenate((temp, dataset[:,-1].reshape(-1,1)), axis=1)"
   ]
  },
  {
   "cell_type": "code",
   "execution_count": null,
   "metadata": {},
   "outputs": [],
   "source": [
    "# dividing dataset into training and test set\n",
    "dataset.sort()\n",
    "print(dataset.shape)\n",
    "train_data = dataset[:-1*test_set]\n",
    "test_data = dataset[-1*test_set:]"
   ]
  },
  {
   "cell_type": "code",
   "execution_count": null,
   "metadata": {},
   "outputs": [],
   "source": [
    "np.random.seed(7)\n",
    "train_data = np.asarray(train_data)"
   ]
  },
  {
   "cell_type": "code",
   "execution_count": null,
   "metadata": {},
   "outputs": [],
   "source": [
    "# separating labels from test and train set\n",
    "train = train_data[:, :-1]\n",
    "label_train = train_data[:,-1:]\n",
    "test = test_data[:, :-1]\n",
    "label_test = test_data[:,-1:]"
   ]
  },
  {
   "cell_type": "code",
   "execution_count": null,
   "metadata": {},
   "outputs": [],
   "source": [
    "# importing and running the svm model\n",
    "from sklearn import svm\n",
    "from sklearn import preprocessing"
   ]
  },
  {
   "cell_type": "code",
   "execution_count": null,
   "metadata": {},
   "outputs": [],
   "source": [
    "model = svm.SVR(kernel='rbf', gamma=1, max_iter=1000)\n",
    "label_train = label_train.reshape(len(label_train))\n",
    "model.fit(train,label_train)"
   ]
  },
  {
   "cell_type": "code",
   "execution_count": null,
   "metadata": {},
   "outputs": [],
   "source": [
    "result = model.predict(test)"
   ]
  },
  {
   "cell_type": "code",
   "execution_count": null,
   "metadata": {},
   "outputs": [],
   "source": [
    "from sklearn.metrics import mean_squared_error\n",
    "mean_squared_error(result,label_test.reshape(label_test.shape[0]))"
   ]
  },
  {
   "cell_type": "code",
   "execution_count": null,
   "metadata": {},
   "outputs": [],
   "source": [
    "# importing and running the linear regression model\n",
    "from sklearn.linear_model import LinearRegression\n",
    "model = LinearRegression()\n",
    "model.fit(train,label_train)"
   ]
  },
  {
   "cell_type": "code",
   "execution_count": null,
   "metadata": {},
   "outputs": [],
   "source": [
    "result = model.predict(test)"
   ]
  },
  {
   "cell_type": "code",
   "execution_count": null,
   "metadata": {},
   "outputs": [],
   "source": [
    "from sklearn.metrics import mean_squared_error\n",
    "mean_squared_error(result,label_test.reshape(label_test.shape[0]))"
   ]
  },
  {
   "cell_type": "code",
   "execution_count": null,
   "metadata": {},
   "outputs": [],
   "source": [
    "# implementing and running the neural network model\n",
    "import torch\n",
    "from torch import nn\n",
    "class NeuralNetwork(nn.Module):\n",
    "    def __init__(self):\n",
    "        super(NeuralNetwork, self).__init__()\n",
    "        self.linear_relu_stack = nn.Sequential(\n",
    "            nn.Linear(numfeatures, 4),\n",
    "            nn.LeakyReLU(),\n",
    "            nn.Linear(4, 1),\n",
    "            nn.LeakyReLU()\n",
    "        )\n",
    "        self.double()\n",
    "\n",
    "    def forward(self, x):\n",
    "        logits = self.linear_relu_stack(x)\n",
    "        return logits"
   ]
  },
  {
   "cell_type": "code",
   "execution_count": null,
   "metadata": {},
   "outputs": [],
   "source": [
    "model = NeuralNetwork()\n",
    "print(model)"
   ]
  },
  {
   "cell_type": "code",
   "execution_count": null,
   "metadata": {},
   "outputs": [],
   "source": [
    "from torch.optim import Adam\n",
    "criterion = nn.MSELoss()\n",
    "EPOCHS = 1000\n",
    "optm = Adam(model.parameters(), lr = 0.001)"
   ]
  },
  {
   "cell_type": "code",
   "execution_count": null,
   "metadata": {},
   "outputs": [],
   "source": [
    "def training(model, x, y, optimizer, criterion):\n",
    "    model.zero_grad()\n",
    "    output = model(x)\n",
    "    output = output.reshape(-1)\n",
    "    y= torch.tensor(y)\n",
    "    y = y.reshape(1)\n",
    "    loss = criterion(output,y)\n",
    "    loss.backward()\n",
    "    optimizer.step()\n",
    "\n",
    "    return loss, output"
   ]
  },
  {
   "cell_type": "code",
   "execution_count": null,
   "metadata": {},
   "outputs": [],
   "source": [
    "for epoch in range(EPOCHS):\n",
    "    epoch_loss = 0\n",
    "    model.train()\n",
    "    for i in range(len(train)):\n",
    "        x_train, y_train = train[i], label_train[i]\n",
    "        x_train = torch.from_numpy(x_train)\n",
    "        loss, predictions = training(model,x_train,y_train, optm, criterion)\n",
    "        epoch_loss+=loss.item()\n",
    "    print('Epoch {} Loss : {}'.format((epoch+1),epoch_loss))"
   ]
  },
  {
   "cell_type": "code",
   "execution_count": null,
   "metadata": {},
   "outputs": [],
   "source": [
    "model.eval()\n",
    "result = []\n",
    "for i in range(len(test)):\n",
    "    result.append(model(torch.from_numpy(test[i])).detach().numpy())\n",
    "mean_squared_error(result,label_test.reshape(label_test.shape[0]))"
   ]
  }
 ],
 "metadata": {
  "kernelspec": {
   "display_name": "Python 3",
   "language": "python",
   "name": "python3"
  },
  "language_info": {
   "codemirror_mode": {
    "name": "ipython",
    "version": 3
   },
   "file_extension": ".py",
   "mimetype": "text/x-python",
   "name": "python",
   "nbconvert_exporter": "python",
   "pygments_lexer": "ipython3",
   "version": "3.7.4"
  }
 },
 "nbformat": 4,
 "nbformat_minor": 2
}
